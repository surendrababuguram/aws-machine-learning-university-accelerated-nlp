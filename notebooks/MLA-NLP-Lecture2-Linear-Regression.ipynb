{
 "cells": [
  {
   "cell_type": "markdown",
   "metadata": {},
   "source": [
    "![MLU Logo](../data/MLU_Logo.png)"
   ]
  },
  {
   "cell_type": "markdown",
   "metadata": {},
   "source": [
    "# <a name=\"0\">Machine Learning Accelerator - Natural Language Processing - Lecture 2</a>\n",
    "\n",
    "## Linear Regression Models and Regularization\n",
    "\n",
    "In this notebook, we go over Linear Regression methods (with and without regularization: LinearRegression, Ridge, Lasso, ElasticNet) to predict the __log_votes__ field of our review dataset. \n",
    "\n",
    "1. <a href=\"#1\">Reading the dataset</a>\n",
    "2. <a href=\"#2\">Exploratory data analysis</a>\n",
    "3. <a href=\"#3\">Stop word removal and stemming</a>\n",
    "4. <a href=\"#4\">Train - Validation Split</a>\n",
    "5. <a href=\"#5\">Data processing with Pipeline and ColumnTransform</a>\n",
    "6. <a href=\"#6\">Train the regressor</a>\n",
    "7. <a href=\"#7\">Fitting Linear Regression models and checking the validation performance</a> Find more details on the classical Linear Regression models with and without regularization here: https://scikit-learn.org/stable/modules/classes.html#module-sklearn.linear_model\n",
    "8. <a href=\"#8\">Ideas for improvement</a>\n",
    "\n",
    "Overall dataset schema:\n",
    "* __reviewText:__ Text of the review\n",
    "* __summary:__ Summary of the review\n",
    "* __verified:__ Whether the purchase was verified (True or False)\n",
    "* __time:__ UNIX timestamp for the review\n",
    "* __rating:__ Rating of the review\n",
    "* __log_votes:__ Logarithm-adjusted votes log(1+votes)\n"
   ]
  },
  {
   "cell_type": "code",
   "execution_count": 1,
   "metadata": {},
   "outputs": [
    {
     "name": "stdout",
     "output_type": "stream",
     "text": [
      "Requirement already up-to-date: pip in /home/ec2-user/anaconda3/envs/python3/lib/python3.6/site-packages (20.1.1)\n",
      "Requirement already up-to-date: scikit-learn in /home/ec2-user/anaconda3/envs/python3/lib/python3.6/site-packages (0.23.1)\n",
      "Requirement already satisfied, skipping upgrade: numpy>=1.13.3 in /home/ec2-user/anaconda3/envs/python3/lib/python3.6/site-packages (from scikit-learn) (1.14.3)\n",
      "Requirement already satisfied, skipping upgrade: scipy>=0.19.1 in /home/ec2-user/anaconda3/envs/python3/lib/python3.6/site-packages (from scikit-learn) (1.1.0)\n",
      "Requirement already satisfied, skipping upgrade: joblib>=0.11 in /home/ec2-user/anaconda3/envs/python3/lib/python3.6/site-packages (from scikit-learn) (0.16.0)\n",
      "Requirement already satisfied, skipping upgrade: threadpoolctl>=2.0.0 in /home/ec2-user/anaconda3/envs/python3/lib/python3.6/site-packages (from scikit-learn) (2.1.0)\n"
     ]
    }
   ],
   "source": [
    "#Upgrade dependencies\n",
    "!pip install --upgrade pip\n",
    "!pip install --upgrade scikit-learn"
   ]
  },
  {
   "cell_type": "markdown",
   "metadata": {},
   "source": [
    "## 1. <a name=\"1\">Reading the dataset</a>\n",
    "(<a href=\"#0\">Go to top</a>)\n",
    "\n",
    "We will use the __pandas__ library to read our dataset."
   ]
  },
  {
   "cell_type": "code",
   "execution_count": 2,
   "metadata": {},
   "outputs": [
    {
     "data": {
      "text/html": [
       "<div>\n",
       "<style scoped>\n",
       "    .dataframe tbody tr th:only-of-type {\n",
       "        vertical-align: middle;\n",
       "    }\n",
       "\n",
       "    .dataframe tbody tr th {\n",
       "        vertical-align: top;\n",
       "    }\n",
       "\n",
       "    .dataframe thead th {\n",
       "        text-align: right;\n",
       "    }\n",
       "</style>\n",
       "<table border=\"1\" class=\"dataframe\">\n",
       "  <thead>\n",
       "    <tr style=\"text-align: right;\">\n",
       "      <th></th>\n",
       "      <th>reviewText</th>\n",
       "      <th>summary</th>\n",
       "      <th>verified</th>\n",
       "      <th>time</th>\n",
       "      <th>rating</th>\n",
       "      <th>log_votes</th>\n",
       "    </tr>\n",
       "  </thead>\n",
       "  <tbody>\n",
       "    <tr>\n",
       "      <th>0</th>\n",
       "      <td>Stuck with this at work, slow and we still got...</td>\n",
       "      <td>Use SEP or Mcafee</td>\n",
       "      <td>False</td>\n",
       "      <td>1464739200</td>\n",
       "      <td>1.0</td>\n",
       "      <td>0.0</td>\n",
       "    </tr>\n",
       "    <tr>\n",
       "      <th>1</th>\n",
       "      <td>I use parallels every day with both my persona...</td>\n",
       "      <td>Use it daily</td>\n",
       "      <td>False</td>\n",
       "      <td>1332892800</td>\n",
       "      <td>5.0</td>\n",
       "      <td>0.0</td>\n",
       "    </tr>\n",
       "    <tr>\n",
       "      <th>2</th>\n",
       "      <td>Barbara Robbins\\n\\nI've used TurboTax to do ou...</td>\n",
       "      <td>Helpful Product</td>\n",
       "      <td>True</td>\n",
       "      <td>1398816000</td>\n",
       "      <td>4.0</td>\n",
       "      <td>0.0</td>\n",
       "    </tr>\n",
       "    <tr>\n",
       "      <th>3</th>\n",
       "      <td>I have been using this software security for y...</td>\n",
       "      <td>Five Stars</td>\n",
       "      <td>True</td>\n",
       "      <td>1430784000</td>\n",
       "      <td>5.0</td>\n",
       "      <td>0.0</td>\n",
       "    </tr>\n",
       "    <tr>\n",
       "      <th>4</th>\n",
       "      <td>If you want your computer hijacked and slowed ...</td>\n",
       "      <td>... hijacked and slowed to a crawl Windows 10 ...</td>\n",
       "      <td>False</td>\n",
       "      <td>1508025600</td>\n",
       "      <td>1.0</td>\n",
       "      <td>0.0</td>\n",
       "    </tr>\n",
       "  </tbody>\n",
       "</table>\n",
       "</div>"
      ],
      "text/plain": [
       "                                          reviewText  \\\n",
       "0  Stuck with this at work, slow and we still got...   \n",
       "1  I use parallels every day with both my persona...   \n",
       "2  Barbara Robbins\\n\\nI've used TurboTax to do ou...   \n",
       "3  I have been using this software security for y...   \n",
       "4  If you want your computer hijacked and slowed ...   \n",
       "\n",
       "                                             summary  verified        time  \\\n",
       "0                                  Use SEP or Mcafee     False  1464739200   \n",
       "1                                       Use it daily     False  1332892800   \n",
       "2                                    Helpful Product      True  1398816000   \n",
       "3                                         Five Stars      True  1430784000   \n",
       "4  ... hijacked and slowed to a crawl Windows 10 ...     False  1508025600   \n",
       "\n",
       "   rating  log_votes  \n",
       "0     1.0        0.0  \n",
       "1     5.0        0.0  \n",
       "2     4.0        0.0  \n",
       "3     5.0        0.0  \n",
       "4     1.0        0.0  "
      ]
     },
     "execution_count": 2,
     "metadata": {},
     "output_type": "execute_result"
    }
   ],
   "source": [
    "import pandas as pd\n",
    "\n",
    "df = pd.read_csv('../data/examples/AMAZON-REVIEW-DATA-REGRESSION.csv')\n",
    "df.head()"
   ]
  },
  {
   "cell_type": "markdown",
   "metadata": {},
   "source": [
    "Let's look at the first five rows in the dataset. As you can see the __log_votes__ field is numeric. That's why we will build a regression model."
   ]
  },
  {
   "cell_type": "markdown",
   "metadata": {},
   "source": [
    "## 2. <a name=\"2\">Exploratory data analysis</a>\n",
    "(<a href=\"#0\">Go to top</a>)"
   ]
  },
  {
   "cell_type": "markdown",
   "metadata": {},
   "source": [
    "Let's look at the range and distribution of log_votes"
   ]
  },
  {
   "cell_type": "code",
   "execution_count": 3,
   "metadata": {},
   "outputs": [
    {
     "data": {
      "text/plain": [
       "0.0"
      ]
     },
     "execution_count": 3,
     "metadata": {},
     "output_type": "execute_result"
    }
   ],
   "source": [
    "df[\"log_votes\"].min()"
   ]
  },
  {
   "cell_type": "code",
   "execution_count": 4,
   "metadata": {},
   "outputs": [
    {
     "data": {
      "text/plain": [
       "7.799753318287247"
      ]
     },
     "execution_count": 4,
     "metadata": {},
     "output_type": "execute_result"
    }
   ],
   "source": [
    "df[\"log_votes\"].max()"
   ]
  },
  {
   "cell_type": "code",
   "execution_count": 5,
   "metadata": {},
   "outputs": [
    {
     "data": {
      "image/png": "[encoded data removed]",
      "text/plain": [
       "<Figure size 432x288 with 1 Axes>"
      ]
     },
     "metadata": {},
     "output_type": "display_data"
    }
   ],
   "source": [
    "%matplotlib inline\n",
    "import matplotlib.pyplot as plt\n",
    "\n",
    "df[\"log_votes\"].plot.hist()\n",
    "plt.show()"
   ]
  },
  {
   "cell_type": "markdown",
   "metadata": {},
   "source": [
    "We can check the number of missing values for each columm below."
   ]
  },
  {
   "cell_type": "code",
   "execution_count": 6,
   "metadata": {},
   "outputs": [
    {
     "name": "stdout",
     "output_type": "stream",
     "text": [
      "reviewText    6\n",
      "summary       7\n",
      "verified      0\n",
      "time          0\n",
      "rating        0\n",
      "log_votes     0\n",
      "dtype: int64\n"
     ]
    }
   ],
   "source": [
    "print(df.isna().sum())"
   ]
  },
  {
   "cell_type": "markdown",
   "metadata": {},
   "source": [
    "## 3. <a name=\"3\">Text Processing: Stop words removal and stemming</a>\n",
    "(<a href=\"#0\">Go to top</a>)"
   ]
  },
  {
   "cell_type": "code",
   "execution_count": 7,
   "metadata": {},
   "outputs": [
    {
     "name": "stdout",
     "output_type": "stream",
     "text": [
      "[nltk_data] Downloading package punkt to /home/ec2-user/nltk_data...\n",
      "[nltk_data]   Package punkt is already up-to-date!\n",
      "[nltk_data] Downloading package stopwords to\n",
      "[nltk_data]     /home/ec2-user/nltk_data...\n",
      "[nltk_data]   Package stopwords is already up-to-date!\n"
     ]
    },
    {
     "data": {
      "text/plain": [
       "True"
      ]
     },
     "execution_count": 7,
     "metadata": {},
     "output_type": "execute_result"
    }
   ],
   "source": [
    "# Install the library and functions\n",
    "import nltk\n",
    "\n",
    "nltk.download('punkt')\n",
    "nltk.download('stopwords')"
   ]
  },
  {
   "cell_type": "markdown",
   "metadata": {},
   "source": [
    "We will create the stop word removal and text cleaning processes below. NLTK library provides a list of common stop words. We will use the list, but remove some of the words from that list (because those words are actually useful to understand the sentiment in the sentence)."
   ]
  },
  {
   "cell_type": "code",
   "execution_count": 8,
   "metadata": {},
   "outputs": [],
   "source": [
    "import nltk, re\n",
    "from nltk.corpus import stopwords\n",
    "from nltk.stem import SnowballStemmer\n",
    "from nltk.tokenize import word_tokenize\n",
    "\n",
    "# Let's get a list of stop words from the NLTK library\n",
    "stop = stopwords.words('english')\n",
    "\n",
    "# These words are important for our problem. We don't want to remove them.\n",
    "excluding = ['against', 'not', 'don', \"don't\",'ain', 'aren', \"aren't\", 'couldn', \"couldn't\",\n",
    "             'didn', \"didn't\", 'doesn', \"doesn't\", 'hadn', \"hadn't\", 'hasn', \"hasn't\", \n",
    "             'haven', \"haven't\", 'isn', \"isn't\", 'mightn', \"mightn't\", 'mustn', \"mustn't\",\n",
    "             'needn', \"needn't\",'shouldn', \"shouldn't\", 'wasn', \"wasn't\", 'weren', \n",
    "             \"weren't\", 'won', \"won't\", 'wouldn', \"wouldn't\"]\n",
    "\n",
    "# New stop word list\n",
    "stop_words = [word for word in stop if word not in excluding]\n",
    "\n",
    "snow = SnowballStemmer('english')\n",
    "\n",
    "def process_text(texts): \n",
    "    final_text_list=[]\n",
    "    for sent in texts:\n",
    "        \n",
    "        # Check if the sentence is a missing value\n",
    "        if isinstance(sent, str) == False:\n",
    "            sent = \"\"\n",
    "            \n",
    "        filtered_sentence=[]\n",
    "        \n",
    "        sent = sent.lower() # Lowercase \n",
    "        sent = sent.strip() # Remove leading/trailing whitespace\n",
    "        sent = re.sub('\\s+', ' ', sent) # Remove extra space and tabs\n",
    "        sent = re.compile('<.*?>').sub('', sent) # Remove HTML tags/markups:\n",
    "        \n",
    "        for w in word_tokenize(sent):\n",
    "            # We are applying some custom filtering here, feel free to try different things\n",
    "            # Check if it is not numeric and its length>2 and not in stop words\n",
    "            if(not w.isnumeric()) and (len(w)>2) and (w not in stop_words):  \n",
    "                # Stem and add to filtered list\n",
    "                filtered_sentence.append(snow.stem(w))\n",
    "        final_string = \" \".join(filtered_sentence) #final string of cleaned words\n",
    " \n",
    "        final_text_list.append(final_string)\n",
    "        \n",
    "    return final_text_list"
   ]
  },
  {
   "cell_type": "markdown",
   "metadata": {},
   "source": [
    "## 4. <a name=\"4\">Train - Validation Split</a>\n",
    "(<a href=\"#0\">Go to top</a>)\n",
    "\n",
    "Let's split our dataset into training (90%) and validation (10%). We will use \"reviewText\", \"summary\", \"time\", \"rating\" fields and predict the \"log_votes\" field."
   ]
  },
  {
   "cell_type": "code",
   "execution_count": 9,
   "metadata": {},
   "outputs": [],
   "source": [
    "from sklearn.model_selection import train_test_split\n",
    "\n",
    "\n",
    "X_train, X_val, y_train, y_val = train_test_split(df[[\"reviewText\", \"summary\", \"time\", \"rating\"]],\n",
    "                                                  df[\"log_votes\"],\n",
    "                                                  test_size=0.10,\n",
    "                                                  shuffle=True,\n",
    "                                                  random_state=324\n",
    "                                                 )"
   ]
  },
  {
   "cell_type": "code",
   "execution_count": 10,
   "metadata": {},
   "outputs": [
    {
     "name": "stdout",
     "output_type": "stream",
     "text": [
      "Processing the reviewText fields\n",
      "Processing the summary fields\n"
     ]
    }
   ],
   "source": [
    "print(\"Processing the reviewText fields\")\n",
    "X_train[\"reviewText\"] = process_text(X_train[\"reviewText\"].tolist())\n",
    "X_val[\"reviewText\"] = process_text(X_val[\"reviewText\"].tolist())\n",
    "\n",
    "print(\"Processing the summary fields\")\n",
    "X_train[\"summary\"] = process_text(X_train[\"summary\"].tolist())\n",
    "X_val[\"summary\"] = process_text(X_val[\"summary\"].tolist())"
   ]
  },
  {
   "cell_type": "markdown",
   "metadata": {},
   "source": [
    "Our __process_text()__ method in section 3 uses empty string for missing values."
   ]
  },
  {
   "cell_type": "markdown",
   "metadata": {},
   "source": [
    "## 5. <a name=\"5\">Data processing with Pipeline and ColumnTransform</a>\n",
    "(<a href=\"#0\">Go to top</a>)\n",
    "\n",
    "In the previous examples, we have seen how to use pipeline to prepare a data field for our machine learning model. This time, we will focus on multiple fields: numeric and text fields. We are using linear regression model from Sklearn: https://scikit-learn.org/stable/modules/classes.html#module-sklearn.linear_model. \n",
    "\n",
    "   * For the numerical features pipeline, the __numerical_processor__ below, we use a MinMaxScaler (don't have to scale features when using Decision Trees, but it's a good idea to see how to use more data transforms). If different processing is desired for different numerical features, different pipelines should be built - just like shown below for the two text features.\n",
    "   * For the numerical features pipeline, the __text_processor__ below, we use CountVectorizer() for the text fields.\n",
    "   \n",
    "The selective preparations of the dataset features are then put together into a collective ColumnTransformer, to be finally used in a Pipeline along with an estimator. This ensures that the transforms are performed automatically on the raw data when fitting the model and when making predictions, such as when evaluating the model on a validation dataset via cross-validation or making predictions on a test dataset in the future."
   ]
  },
  {
   "cell_type": "code",
   "execution_count": 11,
   "metadata": {},
   "outputs": [],
   "source": [
    "# Grab model features/inputs and target/output\n",
    "numerical_features = ['time',\n",
    "                      'rating']\n",
    "\n",
    "text_features = ['summary',\n",
    "                 'reviewText']\n",
    "\n",
    "model_features = numerical_features + text_features\n",
    "model_target = 'log_votes'"
   ]
  },
  {
   "cell_type": "code",
   "execution_count": 12,
   "metadata": {},
   "outputs": [
    {
     "data": {
      "text/html": [
       "<style>div.sk-top-container {color: black;background-color: white;}div.sk-toggleable {background-color: white;}label.sk-toggleable__label {cursor: pointer;display: block;width: 100%;margin-bottom: 0;padding: 0.2em 0.3em;box-sizing: border-box;text-align: center;}div.sk-toggleable__content {max-height: 0;max-width: 0;overflow: hidden;text-align: left;background-color: #f0f8ff;}div.sk-toggleable__content pre {margin: 0.2em;color: black;border-radius: 0.25em;background-color: #f0f8ff;}input.sk-toggleable__control:checked~div.sk-toggleable__content {max-height: 200px;max-width: 100%;overflow: auto;}div.sk-estimator input.sk-toggleable__control:checked~label.sk-toggleable__label {background-color: #d4ebff;}div.sk-label input.sk-toggleable__control:checked~label.sk-toggleable__label {background-color: #d4ebff;}input.sk-hidden--visually {border: 0;clip: rect(1px 1px 1px 1px);clip: rect(1px, 1px, 1px, 1px);height: 1px;margin: -1px;overflow: hidden;padding: 0;position: absolute;width: 1px;}div.sk-estimator {font-family: monospace;background-color: #f0f8ff;margin: 0.25em 0.25em;border: 1px dotted black;border-radius: 0.25em;box-sizing: border-box;}div.sk-estimator:hover {background-color: #d4ebff;}div.sk-parallel-item::after {content: \"\";width: 100%;border-bottom: 1px solid gray;flex-grow: 1;}div.sk-label:hover label.sk-toggleable__label {background-color: #d4ebff;}div.sk-serial::before {content: \"\";position: absolute;border-left: 1px solid gray;box-sizing: border-box;top: 2em;bottom: 0;left: 50%;}div.sk-serial {display: flex;flex-direction: column;align-items: center;background-color: white;}div.sk-item {z-index: 1;}div.sk-parallel {display: flex;align-items: stretch;justify-content: center;background-color: white;}div.sk-parallel-item {display: flex;flex-direction: column;position: relative;background-color: white;}div.sk-parallel-item:first-child::after {align-self: flex-end;width: 50%;}div.sk-parallel-item:last-child::after {align-self: flex-start;width: 50%;}div.sk-parallel-item:only-child::after {width: 0;}div.sk-dashed-wrapped {border: 1px dashed gray;margin: 0.2em;box-sizing: border-box;padding-bottom: 0.1em;background-color: white;position: relative;}div.sk-label label {font-family: monospace;font-weight: bold;background-color: white;display: inline-block;line-height: 1.2em;}div.sk-label-container {position: relative;z-index: 2;text-align: center;}div.sk-container {display: inline-block;position: relative;}</style><div class=\"sk-top-container\"><div class=\"sk-container\"><div class=\"sk-item sk-dashed-wrapped\"><div class=\"sk-label-container\"><div class=\"sk-label sk-toggleable\"><input class=\"sk-toggleable__control sk-hidden--visually\" id=\"1d0f6748-7081-4868-b569-514ed1960fe4\" type=\"checkbox\" ><label class=\"sk-toggleable__label\" for=\"1d0f6748-7081-4868-b569-514ed1960fe4\">Pipeline</label><div class=\"sk-toggleable__content\"><pre>Pipeline(steps=[('data_preprocessing',\n",
       "                 ColumnTransformer(transformers=[('numerical_pre',\n",
       "                                                  Pipeline(steps=[('num_scaler',\n",
       "                                                                   MinMaxScaler())]),\n",
       "                                                  ['time', 'rating']),\n",
       "                                                 ('text_pre_0',\n",
       "                                                  Pipeline(steps=[('text_vect_0',\n",
       "                                                                   CountVectorizer(binary=True,\n",
       "                                                                                   max_features=50))]),\n",
       "                                                  'summary'),\n",
       "                                                 ('text_pre_1',\n",
       "                                                  Pipeline(steps=[('text_vect_1',\n",
       "                                                                   CountVectorizer(binary=True,\n",
       "                                                                                   max_features=150))]),\n",
       "                                                  'reviewText')])),\n",
       "                ('lr', LinearRegression())])</pre></div></div></div><div class=\"sk-serial\"><div class=\"sk-item sk-dashed-wrapped\"><div class=\"sk-label-container\"><div class=\"sk-label sk-toggleable\"><input class=\"sk-toggleable__control sk-hidden--visually\" id=\"1cf05f77-5197-4e94-a1c3-821ba42c0346\" type=\"checkbox\" ><label class=\"sk-toggleable__label\" for=\"1cf05f77-5197-4e94-a1c3-821ba42c0346\">data_preprocessing: ColumnTransformer</label><div class=\"sk-toggleable__content\"><pre>ColumnTransformer(transformers=[('numerical_pre',\n",
       "                                 Pipeline(steps=[('num_scaler',\n",
       "                                                  MinMaxScaler())]),\n",
       "                                 ['time', 'rating']),\n",
       "                                ('text_pre_0',\n",
       "                                 Pipeline(steps=[('text_vect_0',\n",
       "                                                  CountVectorizer(binary=True,\n",
       "                                                                  max_features=50))]),\n",
       "                                 'summary'),\n",
       "                                ('text_pre_1',\n",
       "                                 Pipeline(steps=[('text_vect_1',\n",
       "                                                  CountVectorizer(binary=True,\n",
       "                                                                  max_features=150))]),\n",
       "                                 'reviewText')])</pre></div></div></div><div class=\"sk-parallel\"><div class=\"sk-parallel-item\"><div class=\"sk-item\"><div class=\"sk-label-container\"><div class=\"sk-label sk-toggleable\"><input class=\"sk-toggleable__control sk-hidden--visually\" id=\"70e836bd-807c-4a28-ae1c-61343c5b1859\" type=\"checkbox\" ><label class=\"sk-toggleable__label\" for=\"70e836bd-807c-4a28-ae1c-61343c5b1859\">numerical_pre</label><div class=\"sk-toggleable__content\"><pre>['time', 'rating']</pre></div></div></div><div class=\"sk-serial\"><div class=\"sk-item\"><div class=\"sk-serial\"><div class=\"sk-item\"><div class=\"sk-estimator sk-toggleable\"><input class=\"sk-toggleable__control sk-hidden--visually\" id=\"ec9f7b42-6ea3-4675-b74f-9ff12b9aca35\" type=\"checkbox\" ><label class=\"sk-toggleable__label\" for=\"ec9f7b42-6ea3-4675-b74f-9ff12b9aca35\">MinMaxScaler</label><div class=\"sk-toggleable__content\"><pre>MinMaxScaler()</pre></div></div></div></div></div></div></div></div><div class=\"sk-parallel-item\"><div class=\"sk-item\"><div class=\"sk-label-container\"><div class=\"sk-label sk-toggleable\"><input class=\"sk-toggleable__control sk-hidden--visually\" id=\"7e25c8f4-d25a-4636-a2b4-8a22a9f07770\" type=\"checkbox\" ><label class=\"sk-toggleable__label\" for=\"7e25c8f4-d25a-4636-a2b4-8a22a9f07770\">text_pre_0</label><div class=\"sk-toggleable__content\"><pre>summary</pre></div></div></div><div class=\"sk-serial\"><div class=\"sk-item\"><div class=\"sk-serial\"><div class=\"sk-item\"><div class=\"sk-estimator sk-toggleable\"><input class=\"sk-toggleable__control sk-hidden--visually\" id=\"9f61cab7-6d7f-4aa3-a0a3-798b100d72ed\" type=\"checkbox\" ><label class=\"sk-toggleable__label\" for=\"9f61cab7-6d7f-4aa3-a0a3-798b100d72ed\">CountVectorizer</label><div class=\"sk-toggleable__content\"><pre>CountVectorizer(binary=True, max_features=50)</pre></div></div></div></div></div></div></div></div><div class=\"sk-parallel-item\"><div class=\"sk-item\"><div class=\"sk-label-container\"><div class=\"sk-label sk-toggleable\"><input class=\"sk-toggleable__control sk-hidden--visually\" id=\"2f2cfe62-e1ed-45c5-b3d9-44b9e2c64480\" type=\"checkbox\" ><label class=\"sk-toggleable__label\" for=\"2f2cfe62-e1ed-45c5-b3d9-44b9e2c64480\">text_pre_1</label><div class=\"sk-toggleable__content\"><pre>reviewText</pre></div></div></div><div class=\"sk-serial\"><div class=\"sk-item\"><div class=\"sk-serial\"><div class=\"sk-item\"><div class=\"sk-estimator sk-toggleable\"><input class=\"sk-toggleable__control sk-hidden--visually\" id=\"9c4e4812-404f-4132-8df4-246154721147\" type=\"checkbox\" ><label class=\"sk-toggleable__label\" for=\"9c4e4812-404f-4132-8df4-246154721147\">CountVectorizer</label><div class=\"sk-toggleable__content\"><pre>CountVectorizer(binary=True, max_features=150)</pre></div></div></div></div></div></div></div></div></div></div><div class=\"sk-item\"><div class=\"sk-estimator sk-toggleable\"><input class=\"sk-toggleable__control sk-hidden--visually\" id=\"1b486ba3-3b28-4902-98a0-df104db7da7b\" type=\"checkbox\" ><label class=\"sk-toggleable__label\" for=\"1b486ba3-3b28-4902-98a0-df104db7da7b\">LinearRegression</label><div class=\"sk-toggleable__content\"><pre>LinearRegression()</pre></div></div></div></div></div></div></div>"
      ],
      "text/plain": [
       "Pipeline(steps=[('data_preprocessing',\n",
       "                 ColumnTransformer(transformers=[('numerical_pre',\n",
       "                                                  Pipeline(steps=[('num_scaler',\n",
       "                                                                   MinMaxScaler())]),\n",
       "                                                  ['time', 'rating']),\n",
       "                                                 ('text_pre_0',\n",
       "                                                  Pipeline(steps=[('text_vect_0',\n",
       "                                                                   CountVectorizer(binary=True,\n",
       "                                                                                   max_features=50))]),\n",
       "                                                  'summary'),\n",
       "                                                 ('text_pre_1',\n",
       "                                                  Pipeline(steps=[('text_vect_1',\n",
       "                                                                   CountVectorizer(binary=True,\n",
       "                                                                                   max_features=150))]),\n",
       "                                                  'reviewText')])),\n",
       "                ('lr', LinearRegression())])"
      ]
     },
     "execution_count": 12,
     "metadata": {},
     "output_type": "execute_result"
    }
   ],
   "source": [
    "from sklearn.impute import SimpleImputer\n",
    "from sklearn.preprocessing import MinMaxScaler\n",
    "from sklearn.feature_extraction.text import CountVectorizer\n",
    "from sklearn.pipeline import Pipeline\n",
    "from sklearn.compose import ColumnTransformer\n",
    "from sklearn.linear_model import LinearRegression\n",
    "\n",
    "### COLUMN_TRANSFORMER ###\n",
    "##########################\n",
    "\n",
    "# Preprocess the numerical features\n",
    "numerical_processor = Pipeline([\n",
    "    ('num_scaler', MinMaxScaler())\n",
    "])\n",
    "# Preprocess 1st text feature\n",
    "text_processor_0 = Pipeline([\n",
    "    ('text_vect_0', CountVectorizer(binary=True, max_features=50))\n",
    "])\n",
    "\n",
    "# Preprocess 2nd text feature (larger vocabulary)\n",
    "text_precessor_1 = Pipeline([\n",
    "    ('text_vect_1', CountVectorizer(binary=True, max_features=150))\n",
    "])\n",
    "\n",
    "# Combine all data preprocessors from above (add more, if you choose to define more!)\n",
    "# For each processor/step specify: a name, the actual process, and finally the features to be processed\n",
    "data_preprocessor = ColumnTransformer([\n",
    "    ('numerical_pre', numerical_processor, numerical_features),\n",
    "    ('text_pre_0', text_processor_0, text_features[0]),\n",
    "    ('text_pre_1', text_precessor_1, text_features[1])\n",
    "]) \n",
    "\n",
    "### PIPELINE ###\n",
    "################\n",
    "\n",
    "# Pipeline desired all data transformers, along with an estimator at the end\n",
    "# Later you can set/reach the parameters using the names issued - for hyperparameter tuning, for example\n",
    "pipeline = Pipeline([\n",
    "    ('data_preprocessing', data_preprocessor),\n",
    "    ('lr', LinearRegression())\n",
    "])\n",
    "\n",
    "# Visualize the pipeline\n",
    "# This will come in handy especially when building more complex pipelines, stringing together multiple preprocessing steps\n",
    "from sklearn import set_config\n",
    "set_config(display='diagram')\n",
    "pipeline"
   ]
  },
  {
   "cell_type": "markdown",
   "metadata": {},
   "source": [
    "## 6. <a name=\"6\">Train the regressor</a>\n",
    "(<a href=\"#0\">Go to top</a>)\n",
    "\n",
    "We train our model by using __.fit()__ on our training dataset. "
   ]
  },
  {
   "cell_type": "code",
   "execution_count": 13,
   "metadata": {},
   "outputs": [
    {
     "data": {
      "text/html": [
       "<style>div.sk-top-container {color: black;background-color: white;}div.sk-toggleable {background-color: white;}label.sk-toggleable__label {cursor: pointer;display: block;width: 100%;margin-bottom: 0;padding: 0.2em 0.3em;box-sizing: border-box;text-align: center;}div.sk-toggleable__content {max-height: 0;max-width: 0;overflow: hidden;text-align: left;background-color: #f0f8ff;}div.sk-toggleable__content pre {margin: 0.2em;color: black;border-radius: 0.25em;background-color: #f0f8ff;}input.sk-toggleable__control:checked~div.sk-toggleable__content {max-height: 200px;max-width: 100%;overflow: auto;}div.sk-estimator input.sk-toggleable__control:checked~label.sk-toggleable__label {background-color: #d4ebff;}div.sk-label input.sk-toggleable__control:checked~label.sk-toggleable__label {background-color: #d4ebff;}input.sk-hidden--visually {border: 0;clip: rect(1px 1px 1px 1px);clip: rect(1px, 1px, 1px, 1px);height: 1px;margin: -1px;overflow: hidden;padding: 0;position: absolute;width: 1px;}div.sk-estimator {font-family: monospace;background-color: #f0f8ff;margin: 0.25em 0.25em;border: 1px dotted black;border-radius: 0.25em;box-sizing: border-box;}div.sk-estimator:hover {background-color: #d4ebff;}div.sk-parallel-item::after {content: \"\";width: 100%;border-bottom: 1px solid gray;flex-grow: 1;}div.sk-label:hover label.sk-toggleable__label {background-color: #d4ebff;}div.sk-serial::before {content: \"\";position: absolute;border-left: 1px solid gray;box-sizing: border-box;top: 2em;bottom: 0;left: 50%;}div.sk-serial {display: flex;flex-direction: column;align-items: center;background-color: white;}div.sk-item {z-index: 1;}div.sk-parallel {display: flex;align-items: stretch;justify-content: center;background-color: white;}div.sk-parallel-item {display: flex;flex-direction: column;position: relative;background-color: white;}div.sk-parallel-item:first-child::after {align-self: flex-end;width: 50%;}div.sk-parallel-item:last-child::after {align-self: flex-start;width: 50%;}div.sk-parallel-item:only-child::after {width: 0;}div.sk-dashed-wrapped {border: 1px dashed gray;margin: 0.2em;box-sizing: border-box;padding-bottom: 0.1em;background-color: white;position: relative;}div.sk-label label {font-family: monospace;font-weight: bold;background-color: white;display: inline-block;line-height: 1.2em;}div.sk-label-container {position: relative;z-index: 2;text-align: center;}div.sk-container {display: inline-block;position: relative;}</style><div class=\"sk-top-container\"><div class=\"sk-container\"><div class=\"sk-item sk-dashed-wrapped\"><div class=\"sk-label-container\"><div class=\"sk-label sk-toggleable\"><input class=\"sk-toggleable__control sk-hidden--visually\" id=\"d4029bae-cc6d-4fc4-80eb-b2675be1030b\" type=\"checkbox\" ><label class=\"sk-toggleable__label\" for=\"d4029bae-cc6d-4fc4-80eb-b2675be1030b\">Pipeline</label><div class=\"sk-toggleable__content\"><pre>Pipeline(steps=[('data_preprocessing',\n",
       "                 ColumnTransformer(transformers=[('numerical_pre',\n",
       "                                                  Pipeline(steps=[('num_scaler',\n",
       "                                                                   MinMaxScaler())]),\n",
       "                                                  ['time', 'rating']),\n",
       "                                                 ('text_pre_0',\n",
       "                                                  Pipeline(steps=[('text_vect_0',\n",
       "                                                                   CountVectorizer(binary=True,\n",
       "                                                                                   max_features=50))]),\n",
       "                                                  'summary'),\n",
       "                                                 ('text_pre_1',\n",
       "                                                  Pipeline(steps=[('text_vect_1',\n",
       "                                                                   CountVectorizer(binary=True,\n",
       "                                                                                   max_features=150))]),\n",
       "                                                  'reviewText')])),\n",
       "                ('lr', LinearRegression())])</pre></div></div></div><div class=\"sk-serial\"><div class=\"sk-item sk-dashed-wrapped\"><div class=\"sk-label-container\"><div class=\"sk-label sk-toggleable\"><input class=\"sk-toggleable__control sk-hidden--visually\" id=\"df116270-c1ce-464d-a9fb-ea3b016e01a8\" type=\"checkbox\" ><label class=\"sk-toggleable__label\" for=\"df116270-c1ce-464d-a9fb-ea3b016e01a8\">data_preprocessing: ColumnTransformer</label><div class=\"sk-toggleable__content\"><pre>ColumnTransformer(transformers=[('numerical_pre',\n",
       "                                 Pipeline(steps=[('num_scaler',\n",
       "                                                  MinMaxScaler())]),\n",
       "                                 ['time', 'rating']),\n",
       "                                ('text_pre_0',\n",
       "                                 Pipeline(steps=[('text_vect_0',\n",
       "                                                  CountVectorizer(binary=True,\n",
       "                                                                  max_features=50))]),\n",
       "                                 'summary'),\n",
       "                                ('text_pre_1',\n",
       "                                 Pipeline(steps=[('text_vect_1',\n",
       "                                                  CountVectorizer(binary=True,\n",
       "                                                                  max_features=150))]),\n",
       "                                 'reviewText')])</pre></div></div></div><div class=\"sk-parallel\"><div class=\"sk-parallel-item\"><div class=\"sk-item\"><div class=\"sk-label-container\"><div class=\"sk-label sk-toggleable\"><input class=\"sk-toggleable__control sk-hidden--visually\" id=\"cc466ae8-8000-4f31-b0bf-5ad55298dda1\" type=\"checkbox\" ><label class=\"sk-toggleable__label\" for=\"cc466ae8-8000-4f31-b0bf-5ad55298dda1\">numerical_pre</label><div class=\"sk-toggleable__content\"><pre>['time', 'rating']</pre></div></div></div><div class=\"sk-serial\"><div class=\"sk-item\"><div class=\"sk-serial\"><div class=\"sk-item\"><div class=\"sk-estimator sk-toggleable\"><input class=\"sk-toggleable__control sk-hidden--visually\" id=\"b5e7a4c5-cd38-4d5b-9516-b6b4adb26174\" type=\"checkbox\" ><label class=\"sk-toggleable__label\" for=\"b5e7a4c5-cd38-4d5b-9516-b6b4adb26174\">MinMaxScaler</label><div class=\"sk-toggleable__content\"><pre>MinMaxScaler()</pre></div></div></div></div></div></div></div></div><div class=\"sk-parallel-item\"><div class=\"sk-item\"><div class=\"sk-label-container\"><div class=\"sk-label sk-toggleable\"><input class=\"sk-toggleable__control sk-hidden--visually\" id=\"13320024-f3fd-4ab6-abe9-37c8f09f0314\" type=\"checkbox\" ><label class=\"sk-toggleable__label\" for=\"13320024-f3fd-4ab6-abe9-37c8f09f0314\">text_pre_0</label><div class=\"sk-toggleable__content\"><pre>summary</pre></div></div></div><div class=\"sk-serial\"><div class=\"sk-item\"><div class=\"sk-serial\"><div class=\"sk-item\"><div class=\"sk-estimator sk-toggleable\"><input class=\"sk-toggleable__control sk-hidden--visually\" id=\"74b6f98d-6e08-4ae8-a661-107e1bae2084\" type=\"checkbox\" ><label class=\"sk-toggleable__label\" for=\"74b6f98d-6e08-4ae8-a661-107e1bae2084\">CountVectorizer</label><div class=\"sk-toggleable__content\"><pre>CountVectorizer(binary=True, max_features=50)</pre></div></div></div></div></div></div></div></div><div class=\"sk-parallel-item\"><div class=\"sk-item\"><div class=\"sk-label-container\"><div class=\"sk-label sk-toggleable\"><input class=\"sk-toggleable__control sk-hidden--visually\" id=\"25c9f762-8def-4fac-880c-aea9b4dcb5a0\" type=\"checkbox\" ><label class=\"sk-toggleable__label\" for=\"25c9f762-8def-4fac-880c-aea9b4dcb5a0\">text_pre_1</label><div class=\"sk-toggleable__content\"><pre>reviewText</pre></div></div></div><div class=\"sk-serial\"><div class=\"sk-item\"><div class=\"sk-serial\"><div class=\"sk-item\"><div class=\"sk-estimator sk-toggleable\"><input class=\"sk-toggleable__control sk-hidden--visually\" id=\"f600b460-41eb-4c8a-971d-86cc18fd07db\" type=\"checkbox\" ><label class=\"sk-toggleable__label\" for=\"f600b460-41eb-4c8a-971d-86cc18fd07db\">CountVectorizer</label><div class=\"sk-toggleable__content\"><pre>CountVectorizer(binary=True, max_features=150)</pre></div></div></div></div></div></div></div></div></div></div><div class=\"sk-item\"><div class=\"sk-estimator sk-toggleable\"><input class=\"sk-toggleable__control sk-hidden--visually\" id=\"f0ae3173-e93e-41ad-816b-c15fd3370ada\" type=\"checkbox\" ><label class=\"sk-toggleable__label\" for=\"f0ae3173-e93e-41ad-816b-c15fd3370ada\">LinearRegression</label><div class=\"sk-toggleable__content\"><pre>LinearRegression()</pre></div></div></div></div></div></div></div>"
      ],
      "text/plain": [
       "Pipeline(steps=[('data_preprocessing',\n",
       "                 ColumnTransformer(transformers=[('numerical_pre',\n",
       "                                                  Pipeline(steps=[('num_scaler',\n",
       "                                                                   MinMaxScaler())]),\n",
       "                                                  ['time', 'rating']),\n",
       "                                                 ('text_pre_0',\n",
       "                                                  Pipeline(steps=[('text_vect_0',\n",
       "                                                                   CountVectorizer(binary=True,\n",
       "                                                                                   max_features=50))]),\n",
       "                                                  'summary'),\n",
       "                                                 ('text_pre_1',\n",
       "                                                  Pipeline(steps=[('text_vect_1',\n",
       "                                                                   CountVectorizer(binary=True,\n",
       "                                                                                   max_features=150))]),\n",
       "                                                  'reviewText')])),\n",
       "                ('lr', LinearRegression())])"
      ]
     },
     "execution_count": 13,
     "metadata": {},
     "output_type": "execute_result"
    }
   ],
   "source": [
    "# Fit the Pipeline to training data\n",
    "pipeline.fit(X_train[model_features], y_train.values)"
   ]
  },
  {
   "cell_type": "markdown",
   "metadata": {},
   "source": [
    "## 7. <a name=\"7\">Fitting Linear Regression models and checking the validation performance</a>\n",
    "(<a href=\"#0\">Go to top</a>)"
   ]
  },
  {
   "cell_type": "markdown",
   "metadata": {},
   "source": [
    "#### 7.1  LinearRegression\n",
    "Let's first fit __LinearRegression__ from Sklearn library, and check the performance on the validation dataset. Using the __coef___ atribute, we can also print the learned weights of the model.\n",
    "\n",
    "Find more details on __LinearRegression__ here:\n",
    "https://scikit-learn.org/stable/modules/generated/sklearn.linear_model.LinearRegression.html"
   ]
  },
  {
   "cell_type": "code",
   "execution_count": 14,
   "metadata": {},
   "outputs": [
    {
     "name": "stdout",
     "output_type": "stream",
     "text": [
      "LinearRegression on Validation: Mean_squared_error: 0.591019,  R_square_score: 0.356071\n",
      "LinearRegression model weights: \n",
      " [-1.74590753e+00 -4.16827791e-01  6.56223798e-02 -2.36658268e-02\n",
      "  8.60854424e-02 -9.27051170e-03  7.93510207e-02  9.70641895e-02\n",
      "  5.27824774e-02  2.09907756e-02  5.79081921e-02  2.22186911e-01\n",
      "  9.94181227e-02 -1.38870755e-02 -4.07029915e-02 -1.20766327e-04\n",
      "  4.38411194e-02  9.08966603e-02  2.16030091e-02  1.30272245e-02\n",
      " -2.24451365e-02  8.60554846e-03  2.41577367e-02 -2.32745550e-02\n",
      " -3.29517517e-02 -9.95083292e-03 -1.51489296e-01 -3.76665546e-02\n",
      "  6.48632377e-02 -1.17027229e-02  1.08722020e-02  1.58117113e-02\n",
      " -4.97168964e-02 -5.62027981e-02  5.82824658e-02 -8.74318562e-02\n",
      "  1.69220413e-02 -4.06068239e-02  2.67460246e-02  4.64255618e-02\n",
      " -9.16063106e-03  1.16367952e-01  2.62843086e-02 -2.15540581e-02\n",
      " -1.20327912e-02 -4.01607069e-02 -5.44445158e-02 -1.19694698e-01\n",
      "  1.22102055e-02  5.18642089e-02 -1.26616722e-02  8.86367184e-02\n",
      "  5.44923811e-03 -4.71229048e-02  9.00050118e-02  6.50899583e-02\n",
      "  6.41021414e-02 -4.84608779e-02  5.20386535e-02  2.77074776e-02\n",
      " -1.33810601e-02  2.49683280e-02  1.54021394e-02  4.96475415e-03\n",
      "  2.69334323e-02  4.02886503e-02  3.97863184e-02  1.09178208e-01\n",
      "  6.67143338e-02  8.43096607e-02  8.77018373e-02 -1.96350835e-02\n",
      " -4.10919922e-02  1.21087582e-01  1.03376948e-01  2.54534223e-02\n",
      "  5.49483898e-02  1.33115967e-02  7.05726236e-04  8.28894627e-03\n",
      "  1.03361242e-02  1.76561301e-02  1.57977658e-02  3.11228830e-02\n",
      "  8.70658901e-02  2.63631749e-02  6.83894366e-02  9.47153749e-03\n",
      " -5.33934900e-03 -2.52814507e-02  7.87289766e-02  4.58366448e-02\n",
      "  2.20836637e-02  1.36313692e-02 -1.69745166e-02  1.80663984e-02\n",
      "  2.27538104e-02  3.54498847e-02  1.97520505e-03 -7.11360261e-03\n",
      "  5.43880607e-03 -1.33645820e-02  1.72491897e-02  6.12309302e-02\n",
      " -5.89299452e-03  6.14405551e-02  4.64980006e-03  1.25789436e-01\n",
      "  2.07870843e-02  3.19125753e-02  1.36760551e-01  8.15746892e-04\n",
      "  2.87158280e-03 -1.89175739e-02  2.59169738e-02  1.16525087e-01\n",
      "  1.54115133e-02 -3.85681033e-02  1.77560412e-02  3.50040038e-02\n",
      "  1.10525196e-01 -2.61406865e-02  1.66500862e-02 -2.62603962e-02\n",
      "  2.31209814e-02  5.66473191e-02  5.49147212e-02  2.12764523e-02\n",
      "  7.41984806e-02  5.55085708e-02  2.92128822e-02  2.45165616e-02\n",
      "  1.24775867e-02 -3.66067200e-02  5.11069489e-02 -9.21625950e-02\n",
      "  2.57410119e-02 -1.60173364e-02  4.49723950e-02 -4.40952101e-02\n",
      " -1.02907980e-03  1.04483430e-02  4.71505273e-02  6.02206453e-02\n",
      "  3.17195858e-02  9.62400776e-03 -3.70414097e-02  6.01149774e-03\n",
      "  5.72603212e-02  5.98902477e-02  3.65337490e-02  1.29285239e-02\n",
      " -8.36609808e-02  9.63330135e-02  6.08374403e-02  1.56626318e-02\n",
      "  2.87406105e-02  1.49647245e-02  1.21126978e-01  3.56476757e-02\n",
      "  1.67580297e-02 -3.07124261e-02  1.75673554e-02  4.76511820e-02\n",
      " -3.44836922e-02 -5.18006037e-02  1.89330673e-02 -2.87657351e-02\n",
      "  9.37564829e-03  4.65579573e-02  3.53536352e-02 -3.83657414e-02\n",
      "  1.99018688e-02 -7.94566273e-02 -3.95194085e-05  4.44169091e-02\n",
      " -1.09190399e-02 -7.91522763e-03 -1.12436724e-02 -1.11473330e-01\n",
      "  1.55138876e-02  8.79246792e-03  1.80987625e-02 -2.12487259e-02\n",
      "  4.43881275e-03  3.85072805e-02  1.37763338e-02  6.08491630e-02\n",
      "  7.26581497e-03  3.63243847e-02  6.48033946e-02  5.98579112e-02\n",
      "  5.21754863e-02  4.89944455e-02  1.07182731e-02  2.94098242e-02\n",
      "  5.59692890e-02  1.21381114e-01  1.01103085e-03  4.75002554e-03\n",
      " -2.27459894e-02  1.80803211e-02]\n"
     ]
    }
   ],
   "source": [
    "from sklearn.linear_model import LinearRegression\n",
    "from sklearn.metrics import r2_score, mean_squared_error\n",
    "\n",
    "lrRegressor_val_predictions = pipeline.predict(X_val[model_features])\n",
    "print(\"LinearRegression on Validation: Mean_squared_error: %f,  R_square_score: %f\" % \\\n",
    "      (mean_squared_error(y_val, lrRegressor_val_predictions),r2_score(y_val, lrRegressor_val_predictions)))\n",
    "print(\"LinearRegression model weights: \\n\", pipeline.named_steps['lr'].coef_)"
   ]
  },
  {
   "cell_type": "markdown",
   "metadata": {},
   "source": [
    "#### 7.2  Ridge (Linear Regression with L2 regularization)\n",
    "Let's now fit __Ridge__ from Sklearn library, and check the performance on the validation dataset.\n",
    "\n",
    "Find more details on __Ridge__ here:\n",
    "https://scikit-learn.org/stable/modules/generated/sklearn.linear_model.Ridge.html\n",
    "\n",
    "To improve the performance of a LinearRegression model, __Ridge__ is tuning model complexity by adding a $L_2$ penalty score for complexity to the model cost function:\n",
    "\n",
    "$$\\text{C}_{\\text{regularized}}(\\textbf{w}) = \\text{C}(\\textbf{w}) +  {alpha}∗||\\textbf{w}||_2^2$$\n",
    "\n",
    "where $\\textbf{w}$ is the model weights vector, and $||\\textbf{w}||_2^2 = \\sum \\textbf{w}_i^2$.\n",
    "\n",
    "The strength of the regularization is controlled by the regularizer parameter, alpha: smaller value of $alpha$, weaker regularization; larger value of $alpha$, stronger regularization. \n"
   ]
  },
  {
   "cell_type": "code",
   "execution_count": 15,
   "metadata": {},
   "outputs": [
    {
     "name": "stdout",
     "output_type": "stream",
     "text": [
      "Ridge on Validation: Mean_squared_error: 0.589843,  R_square_score: 0.357352\n",
      "Ridge model weights: \n",
      " [-1.62635460e+00 -4.04852036e-01  5.76188146e-02 -2.26417318e-02\n",
      "  7.78424733e-02 -9.88959061e-03  6.09625745e-02  8.11168328e-02\n",
      "  4.38202034e-02  1.33631743e-02  4.95367517e-02  1.58827429e-01\n",
      "  3.70343564e-02 -1.39013666e-02 -4.35831242e-02 -4.22893272e-03\n",
      "  3.60619436e-02  7.39638463e-02  1.31998759e-02  4.04807524e-03\n",
      " -2.14132712e-02  1.18740901e-05  9.61168569e-03 -2.39120503e-02\n",
      " -3.26601481e-02 -9.78518403e-03 -1.23524954e-01 -6.95294754e-02\n",
      "  5.39179617e-02 -8.34054716e-03  7.69068288e-03  1.12973164e-02\n",
      " -4.81728987e-02 -5.32981452e-02  5.13313016e-02 -4.78609936e-02\n",
      "  1.85911310e-02 -4.23254461e-02 -2.57790114e-02  3.39922375e-02\n",
      " -1.15597556e-02  9.62149066e-02 -1.95908921e-02 -1.77410741e-02\n",
      " -1.37026168e-02 -3.38405619e-02 -5.07000718e-02 -8.67733755e-02\n",
      "  6.78407537e-03  4.37209322e-02 -1.66837644e-02  7.71203061e-02\n",
      "  5.07834589e-03 -4.86872863e-02  8.44210768e-02  6.31100531e-02\n",
      "  6.58686116e-02 -4.80855946e-02  4.67993124e-02  2.78288164e-02\n",
      " -1.20139939e-02  2.67797792e-02  1.71759294e-02  8.51087697e-03\n",
      "  2.65308367e-02  4.27210187e-02  3.75283103e-02  1.03992134e-01\n",
      "  6.47397136e-02  8.21006136e-02  8.52213025e-02 -1.90596317e-02\n",
      " -3.94726754e-02  1.18275393e-01  9.92257577e-02  2.59950990e-02\n",
      "  5.31745737e-02  9.47169965e-03  1.22014222e-03  1.08622516e-02\n",
      "  1.36841626e-02  1.67586664e-02  1.54560068e-02  3.26785471e-02\n",
      "  8.33432649e-02  2.55456495e-02  6.84642422e-02  9.86919054e-03\n",
      " -3.55935775e-03 -2.37633123e-02  7.94467745e-02  4.20162808e-02\n",
      "  2.39445824e-02  1.20397550e-02 -1.69659479e-03  2.00418592e-02\n",
      "  2.35832147e-02  3.51722771e-02  2.56292949e-03 -6.26851424e-03\n",
      "  6.38485901e-03 -1.05590419e-02  1.86280883e-02  6.01469650e-02\n",
      " -2.94524490e-03  5.99777942e-02  6.57770229e-03  1.21042042e-01\n",
      "  2.32690529e-02  3.31056354e-02  1.31069142e-01 -3.00165664e-03\n",
      "  6.18493771e-04 -1.68750317e-02  2.51077484e-02  1.15084252e-01\n",
      "  1.71501787e-02 -3.57358686e-02  1.76065235e-02  3.12977976e-02\n",
      "  1.09749366e-01 -2.38223265e-02  1.56400656e-02 -2.37656414e-02\n",
      "  2.29889977e-02  5.76618422e-02  5.61098939e-02  2.04993096e-02\n",
      "  7.33928110e-02  5.79221142e-02  2.90360553e-02  2.49373464e-02\n",
      "  1.16851372e-02 -3.45615456e-02  5.15500489e-02 -8.64129500e-02\n",
      "  2.75435580e-02 -1.39435957e-02  4.76214530e-02 -4.23921561e-02\n",
      " -3.20212057e-03  8.19455861e-03  4.47209006e-02  5.84805315e-02\n",
      "  3.25700416e-02  9.27503364e-03 -3.26487773e-02  9.72572054e-03\n",
      "  6.22719447e-02  6.01551706e-02  3.62697834e-02  1.22338566e-02\n",
      " -7.90803268e-02  9.35186539e-02  6.01402885e-02  1.71277739e-02\n",
      "  2.94802550e-02  1.58147917e-02  1.19518011e-01  3.66095104e-02\n",
      "  1.80112282e-02 -2.77801352e-02  1.84051287e-02  4.68136313e-02\n",
      " -3.22486330e-02 -4.54209094e-02  1.88843330e-02 -2.55155242e-02\n",
      "  1.07234425e-02  4.51123714e-02  3.96034552e-02 -3.69456389e-02\n",
      "  2.05210446e-02 -7.38898984e-02  7.66438190e-04  4.77754778e-02\n",
      " -1.19577402e-02 -2.54467574e-03 -8.76703565e-03 -1.08142702e-01\n",
      "  1.38000275e-02  1.06208160e-02  2.05132381e-02 -1.94092680e-02\n",
      "  5.68595986e-03  3.88528862e-02  1.23522541e-02  6.05278017e-02\n",
      "  8.46934462e-03  3.77614212e-02  6.44267151e-02  6.02906144e-02\n",
      "  5.18086340e-02  4.93781253e-02  1.14515846e-02  2.68570027e-02\n",
      "  5.45572625e-02  1.16444112e-01  6.75293468e-04  7.59256484e-03\n",
      " -2.12593277e-02  1.59672859e-02]\n"
     ]
    }
   ],
   "source": [
    "from sklearn.linear_model import Ridge\n",
    "from sklearn.metrics import r2_score, mean_squared_error\n",
    "\n",
    "# Let's update the pipeline with Ridge regression model\n",
    "ridge_pipeline = Pipeline([\n",
    "    ('data_preprocessing', data_preprocessor),\n",
    "    ('ridge', Ridge(alpha = 100))\n",
    "])\n",
    "\n",
    "ridge_pipeline.fit(X_train[model_features], y_train.values)\n",
    "ridgeRegressor_val_predictions = ridge_pipeline.predict(X_val[model_features])\n",
    "\n",
    "print(\"Ridge on Validation: Mean_squared_error: %f,  R_square_score: %f\" % \\\n",
    "      (mean_squared_error(y_val, ridgeRegressor_val_predictions),r2_score(y_val, ridgeRegressor_val_predictions)))\n",
    "\n",
    "print(\"Ridge model weights: \\n\", ridge_pipeline.named_steps['ridge'].coef_)"
   ]
  },
  {
   "cell_type": "markdown",
   "metadata": {},
   "source": [
    "#### 7.3 LASSO (Linear Regression with L1 regularization)\n",
    "Let's also fit __Lasso__ from Sklearn library, and check the performance on the validation dataset.\n",
    "\n",
    "Find more details on __Lasso__ here:\n",
    "https://scikit-learn.org/stable/modules/generated/sklearn.linear_model.Lasso.html\n",
    "\n",
    "__Lasso__ is tuning model complexity by adding a $L_1$ penalty score for complexity to the model cost function:\n",
    "\n",
    "$$\\text{C}_{\\text{regularized}}(\\textbf{w}) = \\text{C}(\\textbf{w}) +  alpha∗||\\textbf{w}||_1$$\n",
    "\n",
    "where $\\textbf{w}$ is the model weights vector, and $||\\textbf{w}||_1 = \\sum |\\textbf{w}_i|$. \n",
    "\n",
    "Again, the strength of the regularization is controlled by the regularizer parameter, $alpha$. Due to the geometry of $L_1$ norm, with __Lasso__, some of the weights will shrink all the way to 0, leading to sparsity - some of the features are not contributing to the model afterall!"
   ]
  },
  {
   "cell_type": "code",
   "execution_count": 16,
   "metadata": {},
   "outputs": [
    {
     "name": "stdout",
     "output_type": "stream",
     "text": [
      "Lasso on Validation: Mean_squared_error: 0.589897,  R_square_score: 0.357293\n",
      "Lasso model weights: \n",
      " [-1.72018100e+00 -3.89042880e-01  2.58389442e-02 -0.00000000e+00\n",
      "  3.82485970e-02 -0.00000000e+00  0.00000000e+00  0.00000000e+00\n",
      "  0.00000000e+00  0.00000000e+00  1.10741687e-02  1.26495462e-01\n",
      "  0.00000000e+00 -0.00000000e+00 -2.51506953e-02  0.00000000e+00\n",
      "  0.00000000e+00  0.00000000e+00  0.00000000e+00  0.00000000e+00\n",
      " -0.00000000e+00 -0.00000000e+00 -0.00000000e+00 -0.00000000e+00\n",
      " -0.00000000e+00 -0.00000000e+00 -4.64845643e-02 -5.02203748e-02\n",
      "  0.00000000e+00 -0.00000000e+00  0.00000000e+00  0.00000000e+00\n",
      " -0.00000000e+00 -0.00000000e+00  3.50588997e-02 -1.61126704e-02\n",
      "  0.00000000e+00 -7.41813800e-03 -0.00000000e+00  0.00000000e+00\n",
      " -0.00000000e+00  1.96746839e-02 -0.00000000e+00 -0.00000000e+00\n",
      "  0.00000000e+00 -0.00000000e+00 -0.00000000e+00 -0.00000000e+00\n",
      " -0.00000000e+00  0.00000000e+00 -0.00000000e+00  2.42059517e-02\n",
      "  0.00000000e+00 -1.67646076e-02  7.65653595e-02  5.11882660e-02\n",
      "  6.53230137e-02 -2.00430927e-02  4.23801055e-02  1.93869694e-02\n",
      " -0.00000000e+00  2.31914615e-02  6.72887773e-03  0.00000000e+00\n",
      "  7.78751244e-03  4.25221770e-02  2.45734917e-02  9.85939295e-02\n",
      "  5.65963223e-02  7.07105013e-02  7.41551272e-02 -6.83812079e-03\n",
      " -2.01592895e-02  1.09376261e-01  9.82148134e-02  1.92893593e-02\n",
      "  4.22152577e-02  8.84634890e-03  0.00000000e+00  1.36562398e-03\n",
      "  1.12886121e-02  8.36410035e-03  0.00000000e+00  2.08344257e-02\n",
      "  6.60430837e-02  1.12989465e-02  6.43920563e-02  0.00000000e+00\n",
      "  0.00000000e+00 -0.00000000e+00  7.76290794e-02  1.81251475e-02\n",
      "  1.33806491e-02  3.45143437e-03  0.00000000e+00  1.94068663e-02\n",
      "  1.63794660e-02  2.15068526e-02  0.00000000e+00 -0.00000000e+00\n",
      "  4.40464642e-04 -0.00000000e+00  1.13018902e-02  4.90434676e-02\n",
      "  0.00000000e+00  4.56156254e-02  0.00000000e+00  1.18512244e-01\n",
      "  0.00000000e+00  3.09604924e-02  1.22928173e-01  0.00000000e+00\n",
      "  0.00000000e+00 -0.00000000e+00  1.16403069e-02  1.20498083e-01\n",
      "  1.46868715e-02 -5.11099551e-03  0.00000000e+00  1.62199459e-02\n",
      "  1.10008147e-01 -0.00000000e+00  4.84526788e-03 -3.99021238e-03\n",
      "  7.76176538e-03  5.84370219e-02  5.66876664e-02  4.45163125e-03\n",
      "  6.32522767e-02  4.04646380e-02  1.17782282e-02  2.24486910e-02\n",
      "  1.04495306e-02 -1.31243979e-02  4.90779585e-02 -7.83116876e-02\n",
      "  2.65773489e-02 -0.00000000e+00  4.77545758e-02 -7.41728697e-03\n",
      "  0.00000000e+00  0.00000000e+00  2.69817341e-02  4.61645459e-02\n",
      "  4.91793249e-03  7.94700403e-03 -1.99252000e-02  9.79437019e-03\n",
      "  6.12522353e-02  5.67899649e-02  1.79017299e-02  0.00000000e+00\n",
      " -6.66446935e-02  8.52593306e-02  5.07924769e-02  1.37228565e-02\n",
      "  2.07185155e-02  0.00000000e+00  1.17529453e-01  2.51675567e-02\n",
      "  7.16866964e-03 -0.00000000e+00  1.43276812e-02  4.04488337e-02\n",
      " -9.42111707e-03 -6.62023748e-03  3.99465051e-03 -0.00000000e+00\n",
      "  0.00000000e+00  3.93153260e-02  4.41327019e-02 -5.56178176e-06\n",
      "  1.66126982e-02 -3.66762418e-02  0.00000000e+00  5.00670538e-02\n",
      " -0.00000000e+00  0.00000000e+00  0.00000000e+00 -9.16386846e-02\n",
      "  0.00000000e+00  4.39886735e-03  1.07650394e-02 -2.07563289e-03\n",
      "  4.23642477e-03  3.33000467e-02  2.26616142e-03  5.28305913e-02\n",
      "  4.50577149e-03  3.26375893e-02  6.23854438e-02  5.61024315e-02\n",
      "  5.45675568e-02  4.96510418e-02  7.42154981e-03  2.93037505e-02\n",
      "  4.54365983e-02  1.06932694e-01 -0.00000000e+00  0.00000000e+00\n",
      " -5.03406077e-03  1.42087809e-02]\n"
     ]
    }
   ],
   "source": [
    "from sklearn.linear_model import Lasso\n",
    "from sklearn.metrics import r2_score, mean_squared_error\n",
    "\n",
    "# Let's update the pipeline with Lasso regression model\n",
    "lasso_pipeline = Pipeline([\n",
    "    ('data_preprocessing', data_preprocessor),\n",
    "    ('lasso', Lasso(alpha = 0.001))\n",
    "])\n",
    "\n",
    "lasso_pipeline.fit(X_train[model_features], y_train.values)\n",
    "lassoRegressor_val_predictions = lasso_pipeline.predict(X_val[model_features])\n",
    "\n",
    "print(\"Lasso on Validation: Mean_squared_error: %f,  R_square_score: %f\" % \\\n",
    "      (mean_squared_error(y_val, lassoRegressor_val_predictions),r2_score(y_val, lassoRegressor_val_predictions)))\n",
    "\n",
    "print(\"Lasso model weights: \\n\", lasso_pipeline.named_steps['lasso'].coef_)"
   ]
  },
  {
   "cell_type": "markdown",
   "metadata": {},
   "source": [
    "#### 7.4 ElasticNet (Linear Regression with L2 and L1 regularization)\n",
    "Let's finally try __ElasticNet__ from Sklearn library, and check the performance on the validation dataset.\n",
    "\n",
    "Find more details on __ElasticNet__ here:\n",
    "https://scikit-learn.org/stable/modules/generated/sklearn.linear_model.ElasticNet.html\n",
    "\n",
    "__ElasticNet__ is tuning model complexity by adding both $L_2$ and $L_1$ penalty scores for complexity to the model's cost function:\n",
    "\n",
    "$$\\text{C}_{\\text{regularized}}(\\textbf{w}) = \\text{C}(\\textbf{w}) +  0.5*alpha∗(1-\\textit{l1}_{ratio})||\\textbf{w}||_2^2 + alpha∗\\textit{l1}_{ratio}∗||\\textbf{w}||_1$$\n",
    "\n",
    "and using two parameters, $alpha$ and $\\textit{l1}_{ratio}$, to control the strength of the regularization."
   ]
  },
  {
   "cell_type": "code",
   "execution_count": 17,
   "metadata": {},
   "outputs": [
    {
     "name": "stdout",
     "output_type": "stream",
     "text": [
      "ElasticNet on Validation: Mean_squared_error: 0.589985,  R_square_score: 0.357198\n",
      "ElasticNet model weights: \n",
      " [-1.68718222e+00 -4.07740028e-01  5.81308220e-02 -1.75564911e-02\n",
      "  7.70591086e-02 -2.02403237e-03  6.08587250e-02  7.94764703e-02\n",
      "  3.99381579e-02  1.26925348e-02  4.95580421e-02  1.81298075e-01\n",
      "  5.73046718e-02 -7.59518266e-03 -4.03917952e-02 -4.27928483e-04\n",
      "  3.30656546e-02  7.27641740e-02  1.02780896e-02  1.83194721e-03\n",
      " -1.69492775e-02  0.00000000e+00  5.33213698e-03 -1.74826824e-02\n",
      " -2.70392602e-02 -7.14594014e-03 -1.27054861e-01 -5.45432203e-02\n",
      "  5.14365668e-02 -8.54135047e-04  7.64116064e-03  9.84371469e-03\n",
      " -4.33614666e-02 -4.76031350e-02  5.30067486e-02 -6.00945802e-02\n",
      "  1.05994151e-02 -4.03642004e-02 -0.00000000e+00  3.00438757e-02\n",
      " -2.45581424e-03  9.73759228e-02 -0.00000000e+00 -1.09435272e-02\n",
      " -8.14249497e-03 -2.81622915e-02 -4.78513573e-02 -8.48689257e-02\n",
      "  0.00000000e+00  4.10798809e-02 -1.24165904e-02  7.47455651e-02\n",
      "  4.32150583e-03 -4.46213628e-02  8.62062915e-02  6.26786956e-02\n",
      "  6.46114649e-02 -4.54764955e-02  4.85598274e-02  2.68093754e-02\n",
      " -1.01570619e-02  2.56021717e-02  1.51663823e-02  5.94041463e-03\n",
      "  2.45480237e-02  4.18246897e-02  3.74686609e-02  1.05472429e-01\n",
      "  6.45164940e-02  8.18754874e-02  8.51752146e-02 -1.89034512e-02\n",
      " -3.84158271e-02  1.18436974e-01  1.01527983e-01  2.49424388e-02\n",
      "  5.26033182e-02  1.14975450e-02  1.00327028e-03  8.84676177e-03\n",
      "  1.19283478e-02  1.64468915e-02  1.35620886e-02  3.11406658e-02\n",
      "  8.32365402e-02  2.44624379e-02  6.80773461e-02  8.39500918e-03\n",
      " -1.90195979e-03 -2.18590279e-02  7.89119572e-02  4.10106474e-02\n",
      "  2.18456594e-02  1.17112462e-02 -5.29552544e-03  1.86705985e-02\n",
      "  2.23869564e-02  3.36345639e-02  1.74303075e-03 -4.63811837e-03\n",
      "  5.00839791e-03 -8.78337321e-03  1.70795565e-02  5.93046000e-02\n",
      " -8.48905397e-04  5.91645076e-02  4.05893033e-03  1.22750228e-01\n",
      "  1.93785307e-02  3.24808564e-02  1.32615018e-01 -0.00000000e+00\n",
      "  1.44828576e-04 -1.51735171e-02  2.39151257e-02  1.16608940e-01\n",
      "  1.61912265e-02 -3.38848404e-02  1.46889703e-02  3.13965949e-02\n",
      "  1.10038736e-01 -2.28160894e-02  1.52874788e-02 -2.34408834e-02\n",
      "  2.14640553e-02  5.73415490e-02  5.56458824e-02  1.90501101e-02\n",
      "  7.28159966e-02  5.61089981e-02  2.72053415e-02  2.44563075e-02\n",
      "  1.15297077e-02 -3.36349671e-02  5.10353529e-02 -8.91911914e-02\n",
      "  2.64926651e-02 -1.26419402e-02  4.63327049e-02 -3.95291550e-02\n",
      " -0.00000000e+00  7.91212581e-03  4.44157110e-02  5.78495055e-02\n",
      "  2.83747664e-02  9.41594183e-03 -3.36616680e-02  8.70941739e-03\n",
      "  5.98980467e-02  5.95484178e-02  3.43194197e-02  1.12789817e-02\n",
      " -7.98742782e-02  9.35161687e-02  5.94376285e-02  1.60042858e-02\n",
      "  2.80644749e-02  1.35503444e-02  1.19835470e-01  3.47857062e-02\n",
      "  1.60876235e-02 -2.64229148e-02  1.74962081e-02  4.61619856e-02\n",
      " -3.12931324e-02 -4.43827009e-02  1.72241729e-02 -2.36893982e-02\n",
      "  8.08254209e-03  4.48279347e-02  3.85110183e-02 -3.39756339e-02\n",
      "  1.98208726e-02 -7.26824126e-02  0.00000000e+00  4.73785314e-02\n",
      " -7.61728613e-03 -2.08606239e-03 -7.29497041e-03 -1.07608251e-01\n",
      "  1.24314772e-02  9.14050106e-03  1.84822395e-02 -1.86742659e-02\n",
      "  5.02065641e-03  3.82664158e-02  1.19715585e-02  5.93079714e-02\n",
      "  7.25037239e-03  3.63022099e-02  6.45172456e-02  5.96619585e-02\n",
      "  5.22890640e-02  4.89933494e-02  1.11756402e-02  2.80313623e-02\n",
      "  5.40970758e-02  1.17623097e-01  0.00000000e+00  3.84444344e-03\n",
      " -2.02913298e-02  1.65486819e-02]\n"
     ]
    }
   ],
   "source": [
    "from sklearn.linear_model import ElasticNet\n",
    "from sklearn.metrics import r2_score, mean_squared_error\n",
    "\n",
    "# Let's update the pipeline with ElasticNet regression model\n",
    "elastic_net_pipeline = Pipeline([\n",
    "    ('data_preprocessing', data_preprocessor),\n",
    "    ('elastic_net', ElasticNet(alpha = 0.001, l1_ratio = 0.1))\n",
    "])\n",
    "\n",
    "elastic_net_pipeline.fit(X_train[model_features], y_train.values)\n",
    "enRegressor_val_predictions = elastic_net_pipeline.predict(X_val[model_features])\n",
    "\n",
    "print(\"ElasticNet on Validation: Mean_squared_error: %f,  R_square_score: %f\" % \\\n",
    "      (mean_squared_error(y_val, enRegressor_val_predictions),r2_score(y_val, enRegressor_val_predictions)))\n",
    "\n",
    "print(\"ElasticNet model weights: \\n\", elastic_net_pipeline.named_steps['elastic_net'].coef_)"
   ]
  },
  {
   "cell_type": "markdown",
   "metadata": {},
   "source": [
    "#### 7.5 Weights shrinkage and sparsity\n",
    "\n",
    "Let's compare weights ranges for all these regression models:"
   ]
  },
  {
   "cell_type": "code",
   "execution_count": 18,
   "metadata": {},
   "outputs": [
    {
     "name": "stdout",
     "output_type": "stream",
     "text": [
      "LinearRegression weights range: \n",
      " 3.951940849902835e-05 1.7459075257627832\n",
      "Ridge weights range: \n",
      " 1.1874090105207218e-05 1.6263545989071637\n",
      "Lasso weights range: \n",
      " 0.0 1.720181000769515\n",
      "ElasticNet weights range: \n",
      " 0.0 1.687182215447088\n"
     ]
    }
   ],
   "source": [
    "import numpy as np\n",
    "\n",
    "lin_regression_coeffs = pipeline.named_steps['lr'].coef_\n",
    "ridge_regression_coeffs = ridge_pipeline.named_steps['ridge'].coef_\n",
    "lasso_regression_coeffs = lasso_pipeline.named_steps['lasso'].coef_\n",
    "enet_regression_coeffs = elastic_net_pipeline.named_steps['elastic_net'].coef_\n",
    "\n",
    "print('LinearRegression weights range: \\n', np.abs(lin_regression_coeffs).min(), np.abs(lin_regression_coeffs).max())\n",
    "print('Ridge weights range: \\n', np.abs(ridge_regression_coeffs).min(), np.abs(ridge_regression_coeffs).max())\n",
    "print('Lasso weights range: \\n', np.abs(lasso_regression_coeffs).min(), np.abs(lasso_regression_coeffs).max())\n",
    "print('ElasticNet weights range: \\n', np.abs(enet_regression_coeffs).min(), np.abs(enet_regression_coeffs).max())"
   ]
  },
  {
   "cell_type": "markdown",
   "metadata": {},
   "source": [
    "The weights of all regularized models are lowered compared to __LinearRegression__, with some of the weights of __Lasso__ and __ElasticNet__ shrinked all the way to 0. Using sparsity, the __Lasso__ regularization reduces the number of features, performing feature selection."
   ]
  },
  {
   "cell_type": "markdown",
   "metadata": {},
   "source": [
    "## 8. <a name=\"7\">Ideas for improvement</a>\n",
    "(<a href=\"#0\">Go to top</a>)\n",
    "\n",
    "One way to improve the performance of a linear regression model is to try different strenghts of regularization, here controlled by the parameters $alpha$ and $\\textit{l1}_{ratio}$."
   ]
  }
 ],
 "metadata": {
  "kernelspec": {
   "display_name": "conda_python3",
   "language": "python",
   "name": "conda_python3"
  },
  "language_info": {
   "codemirror_mode": {
    "name": "ipython",
    "version": 3
   },
   "file_extension": ".py",
   "mimetype": "text/x-python",
   "name": "python",
   "nbconvert_exporter": "python",
   "pygments_lexer": "ipython3",
   "version": "3.6.10"
  }
 },
 "nbformat": 4,
 "nbformat_minor": 2
}
