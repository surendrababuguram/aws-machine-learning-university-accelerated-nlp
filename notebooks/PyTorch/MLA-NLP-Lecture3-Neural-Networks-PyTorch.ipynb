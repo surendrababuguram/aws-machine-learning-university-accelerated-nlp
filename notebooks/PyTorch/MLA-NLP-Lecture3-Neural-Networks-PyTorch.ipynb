{
 "cells": [
  {
   "cell_type": "markdown",
   "metadata": {},
   "source": [
    "![MLU Logo](../data/MLU_Logo.png)"
   ]
  },
  {
   "cell_type": "markdown",
   "metadata": {},
   "source": [
    "# <a name=\"0\">Machine Learning Accelerator - Natural Language Processing - Lecture 3</a>\n",
    "\n",
    "## Neural Networks with PyTorch\n",
    "\n",
    "In this notebook, we will build, train and validate a Neural Network using PyTorch.\n",
    "1. <a href=\"#1\">Implementing a neural network with PyTorch</a>\n",
    "2. <a href=\"#2\">Loss Functions</a>\n",
    "3. <a href=\"#3\">Training</a>\n",
    "4. <a href=\"#4\">Example - Binary Classification</a>\n",
    "5. <a href=\"#5\">Natural Language Processing Context</a>"
   ]
  },
  {
   "cell_type": "markdown",
   "metadata": {},
   "source": [
    "## 1. <a name=\"1\">Implementing a neural network with PyTorch</a>\n",
    "(<a href=\"#0\">Go to top</a>)"
   ]
  },
  {
   "cell_type": "markdown",
   "metadata": {},
   "source": [
    "Let's implement a simple neural network with two hidden layers of size 64 and 128 using the sequential mode (Adding things in sequence). We will have 3 inputs, 2 hidden layers and 1 output layer. Some drop-outs attached to the hidden layers."
   ]
  },
  {
   "cell_type": "code",
   "execution_count": 1,
   "metadata": {
    "ExecuteTime": {
     "end_time": "2021-01-09T14:42:26.315306Z",
     "start_time": "2021-01-09T14:42:25.876374Z"
    }
   },
   "outputs": [
    {
     "name": "stdout",
     "output_type": "stream",
     "text": [
      "Sequential(\n",
      "  (0): Linear(in_features=3, out_features=64, bias=True)\n",
      "  (1): Tanh()\n",
      "  (2): Dropout(p=0.4, inplace=False)\n",
      "  (3): Linear(in_features=64, out_features=64, bias=True)\n",
      "  (4): Tanh()\n",
      "  (5): Dropout(p=0.3, inplace=False)\n",
      "  (6): Linear(in_features=64, out_features=1, bias=True)\n",
      ")\n"
     ]
    }
   ],
   "source": [
    "import torch\n",
    "from torch import nn\n",
    "\n",
    "net = nn.Sequential(\n",
    "        nn.Linear(in_features=3,       # Input size of 3 is expected\n",
    "                  out_features=64),    # Linear layer-1 with 64 units\n",
    "        nn.Tanh(),                     # Tanh activation is applied\n",
    "        nn.Dropout(p=.4),              # Apply random 40% drop-out to layer_1\n",
    "        nn.Linear(64, 64),             # Linear layer-2 with 64 units  \n",
    "        nn.Tanh(),                     # Tanh activation is applied\n",
    "        nn.Dropout(p=.3),              # Apply random 30% drop-out to layer_2\n",
    "        nn.Linear(64,1))               # Output layer with single unit\n",
    "\n",
    "print(net)"
   ]
  },
  {
   "cell_type": "markdown",
   "metadata": {},
   "source": [
    "We can initialize the weights of the network with 'initialize()' function. We prefer to use the following:"
   ]
  },
  {
   "cell_type": "code",
   "execution_count": 2,
   "metadata": {
    "ExecuteTime": {
     "end_time": "2021-01-09T14:42:26.323790Z",
     "start_time": "2021-01-09T14:42:26.316902Z"
    }
   },
   "outputs": [
    {
     "data": {
      "text/plain": [
       "Sequential(\n",
       "  (0): Linear(in_features=3, out_features=64, bias=True)\n",
       "  (1): Tanh()\n",
       "  (2): Dropout(p=0.4, inplace=False)\n",
       "  (3): Linear(in_features=64, out_features=64, bias=True)\n",
       "  (4): Tanh()\n",
       "  (5): Dropout(p=0.3, inplace=False)\n",
       "  (6): Linear(in_features=64, out_features=1, bias=True)\n",
       ")"
      ]
     },
     "execution_count": 2,
     "metadata": {},
     "output_type": "execute_result"
    }
   ],
   "source": [
    "def xavier_init_weights(m):\n",
    "    if type(m) == nn.Linear:\n",
    "        torch.nn.init.xavier_uniform_(m.weight)\n",
    "\n",
    "net.apply(xavier_init_weights)"
   ]
  },
  {
   "cell_type": "markdown",
   "metadata": {},
   "source": [
    "Let's look at our layers and dropouts on them. We can easily access them wth net[layer_index]"
   ]
  },
  {
   "cell_type": "code",
   "execution_count": 3,
   "metadata": {
    "ExecuteTime": {
     "end_time": "2021-01-09T14:42:26.329940Z",
     "start_time": "2021-01-09T14:42:26.326430Z"
    }
   },
   "outputs": [
    {
     "name": "stdout",
     "output_type": "stream",
     "text": [
      "Linear(in_features=3, out_features=64, bias=True)\n",
      "Tanh()\n",
      "Dropout(p=0.4, inplace=False)\n",
      "Linear(in_features=64, out_features=64, bias=True)\n",
      "Tanh()\n"
     ]
    }
   ],
   "source": [
    "print(net[0])\n",
    "print(net[1])\n",
    "print(net[2])\n",
    "print(net[3])\n",
    "print(net[4])"
   ]
  },
  {
   "cell_type": "markdown",
   "metadata": {},
   "source": [
    "## 2. <a name=\"2\">Loss Functions</a>\n",
    "(<a href=\"#0\">Go to top</a>)\n",
    "\n",
    "We can select [loss functions](https://d2l.ai/chapter_linear-networks/linear-regression.html#loss-function) according to our problem. A full list of supported `Loss` functions in PyTorch are available [here](https://pytorch.org/docs/stable/nn.html#loss-functions). \n",
    "\n",
    "Let's go over some popular loss functions and see how to call a built-in loss function:\n",
    "\n",
    "\n",
    "__Binary Cross-entropy Loss:__ A common used loss function for binary classification. \n",
    "\n",
    "```python\n",
    "loss = nn.BCELoss()\n",
    "```\n",
    "\n",
    "__Categorical Cross-entropy Loss:__ A common used loss function for multi-class classification. \n",
    "\n",
    "```python\n",
    "loss = nn.CrossEntropyLoss()\n",
    "```\n",
    "\n",
    "__MSE Loss:__ One of the most common loss functions for regression problems. \n",
    "\n",
    "```python\n",
    "loss = nn.MSELoss()\n",
    "```\n",
    "\n",
    "__L1 Loss:__ This is similar to L2 loss. It measures the abolsute difference between target values (y) and predictions (p).\n",
    "$$\n",
    "\\mathrm{L1 loss} = \\frac{1}{2} \\sum_{examples}|y - p|\n",
    "$$\n",
    "In pytorch, we can use it with `L1Loss`:\n",
    "```python\n",
    "loss = nn.L1Loss()\n",
    "```"
   ]
  },
  {
   "cell_type": "markdown",
   "metadata": {},
   "source": [
    "## 3. <a name=\"3\">Training</a>\n",
    "(<a href=\"#0\">Go to top</a>)\n",
    "\n",
    "`torch.optim` module provides necessary optimization algorithms for neural networks. We can use the following `Optimizers` to train a network using [Stochastic Gradient Descent (SGD)](https://d2l.ai/chapter_optimization/sgd.html) method and learning rate of 0.001.\n",
    "\n",
    "```python\n",
    "from torch import optim\n",
    "optimizer = optim.SGD(net.parameters(), lr=0.001)\n",
    "```"
   ]
  },
  {
   "cell_type": "markdown",
   "metadata": {},
   "source": [
    "## 4. <a name=\"4\">Example - Binary Classification</a>\n",
    "(<a href=\"#0\">Go to top</a>)\n",
    "\n",
    "Let's train a neural network on a random dataset. We have two classes and will learn to classify them."
   ]
  },
  {
   "cell_type": "code",
   "execution_count": 4,
   "metadata": {
    "ExecuteTime": {
     "end_time": "2021-01-09T14:42:26.750569Z",
     "start_time": "2021-01-09T14:42:26.332404Z"
    }
   },
   "outputs": [],
   "source": [
    "from sklearn.datasets import make_circles\n",
    "\n",
    "X, y = make_circles(n_samples=750, shuffle=True, random_state=42, noise=0.05, factor=0.3)"
   ]
  },
  {
   "cell_type": "markdown",
   "metadata": {},
   "source": [
    "Let's plot the dataset"
   ]
  },
  {
   "cell_type": "code",
   "execution_count": 5,
   "metadata": {
    "ExecuteTime": {
     "end_time": "2021-01-09T14:42:27.482480Z",
     "start_time": "2021-01-09T14:42:26.752160Z"
    }
   },
   "outputs": [
    {
     "data": {
      "image/png": "[encoded data removed]",
      "text/plain": [
       "<Figure size 432x288 with 1 Axes>"
      ]
     },
     "metadata": {},
     "output_type": "display_data"
    }
   ],
   "source": [
    "%matplotlib inline\n",
    "import matplotlib.pyplot as plt\n",
    "import seaborn as sns\n",
    "\n",
    "def plot_dataset(X, y, title):\n",
    "    \n",
    "    # Activate Seaborn visualization\n",
    "    sns.set()\n",
    "    \n",
    "    # Plot both classes: Class1->Blue, Class2->Red\n",
    "    plt.scatter(X[y==1, 0], X[y==1, 1], c='blue', label=\"class 1\")\n",
    "    plt.scatter(X[y==0, 0], X[y==0, 1], c='red', label=\"class 2\")\n",
    "    plt.legend(loc='upper right')\n",
    "    plt.xlabel('x1')\n",
    "    plt.ylabel('x2')\n",
    "    plt.xlim(-2, 2)\n",
    "    plt.ylim(-2, 2)\n",
    "    plt.title(title)\n",
    "    plt.show()\n",
    "    \n",
    "plot_dataset(X, y, title=\"Dataset\")"
   ]
  },
  {
   "cell_type": "markdown",
   "metadata": {},
   "source": [
    "Importing the necessary libraries"
   ]
  },
  {
   "cell_type": "code",
   "execution_count": 6,
   "metadata": {
    "ExecuteTime": {
     "end_time": "2021-01-09T14:42:28.487971Z",
     "start_time": "2021-01-09T14:42:27.484087Z"
    }
   },
   "outputs": [],
   "source": [
    "import time\n",
    "import mxnet as mx\n",
    "from mxnet import gluon, autograd\n",
    "import mxnet.ndarray as nd\n",
    "from mxnet.gluon.loss import SigmoidBinaryCrossEntropyLoss"
   ]
  },
  {
   "cell_type": "code",
   "execution_count": 7,
   "metadata": {
    "ExecuteTime": {
     "end_time": "2021-01-09T14:42:28.491779Z",
     "start_time": "2021-01-09T14:42:28.489635Z"
    }
   },
   "outputs": [],
   "source": [
    "import time\n",
    "from torch.nn import BCELoss"
   ]
  },
  {
   "cell_type": "markdown",
   "metadata": {},
   "source": [
    "We are creating the network below. We will have two hidden layers. Since the data seems easily seperable, we can have a small network (2 hidden layers) with 10 units at each layer."
   ]
  },
  {
   "cell_type": "code",
   "execution_count": 8,
   "metadata": {
    "ExecuteTime": {
     "end_time": "2021-01-09T14:42:28.498956Z",
     "start_time": "2021-01-09T14:42:28.494975Z"
    }
   },
   "outputs": [],
   "source": [
    "net = nn.Sequential(nn.Linear(in_features=2, out_features=10),\n",
    "                    nn.ReLU(),\n",
    "                    nn.Linear(10, 10),\n",
    "                    nn.ReLU(),\n",
    "                    nn.Linear(10, 1),\n",
    "                    nn.Sigmoid())"
   ]
  },
  {
   "cell_type": "markdown",
   "metadata": {},
   "source": [
    "Let's define the training parameters"
   ]
  },
  {
   "cell_type": "code",
   "execution_count": 9,
   "metadata": {
    "ExecuteTime": {
     "end_time": "2021-01-09T14:42:28.504886Z",
     "start_time": "2021-01-09T14:42:28.500985Z"
    }
   },
   "outputs": [],
   "source": [
    "batch_size = 4           # How many samples to use for each weight update \n",
    "epochs = 50              # Total number of iterations\n",
    "learning_rate = 0.01     # Learning rate\n",
    "device = torch.device(\"cuda:0\" if torch.cuda.is_available() else \"cpu\")\n",
    "\n",
    "epochs = 50   # Total number of iterations\n",
    "lr = 0.01     # Learning rate\n",
    "\n",
    "# Define the loss. As we used sigmoid in the last layer, we use `nn.BCELoss`.\n",
    "# Otherwise we could have made use of `nn.BCEWithLogitsLoss`.\n",
    "loss = BCELoss(reduction='none')\n",
    "\n",
    "# Define the optimizer, SGD with learning rate\n",
    "optimizer = torch.optim.SGD(net.parameters(), lr=lr)"
   ]
  },
  {
   "cell_type": "code",
   "execution_count": 10,
   "metadata": {
    "ExecuteTime": {
     "end_time": "2021-01-09T14:42:28.512093Z",
     "start_time": "2021-01-09T14:42:28.506620Z"
    }
   },
   "outputs": [],
   "source": [
    "# Split the dataset into two parts: 80%-20% split\n",
    "X_train, X_val = X[0:int(len(X)*0.8), :], X[int(len(X)*0.8):, :]\n",
    "y_train, y_val = y[:int(len(X)*0.8)], y[int(len(X)*0.8):]\n",
    "\n",
    "# Use PyTorch DataLoaders to load the data in batches\n",
    "train_dataset = torch.utils.data.TensorDataset(torch.tensor(X_train, dtype=torch.float32),\n",
    "                                               torch.tensor(y_train, dtype=torch.float32))\n",
    "train_loader = torch.utils.data.DataLoader(train_dataset, batch_size=batch_size)\n",
    "\n",
    "# Move validation dataset on CPU/GPU device\n",
    "X_val = torch.tensor(X_val, dtype=torch.float32).to(device)\n",
    "y_val = torch.tensor(y_val, dtype=torch.float32).to(device)"
   ]
  },
  {
   "cell_type": "markdown",
   "metadata": {},
   "source": [
    "Let's start the training process. We will have training and validation sets and print our losses at each step."
   ]
  },
  {
   "cell_type": "code",
   "execution_count": 11,
   "metadata": {
    "ExecuteTime": {
     "end_time": "2021-01-09T14:42:32.187608Z",
     "start_time": "2021-01-09T14:42:28.513937Z"
    }
   },
   "outputs": [
    {
     "name": "stdout",
     "output_type": "stream",
     "text": [
      "Epoch 0. Train_loss 0.679581 Validation_loss 0.670460 Seconds 0.085994\n",
      "Epoch 1. Train_loss 0.657652 Validation_loss 0.641746 Seconds 0.074495\n",
      "Epoch 2. Train_loss 0.613215 Validation_loss 0.585765 Seconds 0.073068\n",
      "Epoch 3. Train_loss 0.526643 Validation_loss 0.485982 Seconds 0.074877\n",
      "Epoch 4. Train_loss 0.400812 Validation_loss 0.353724 Seconds 0.077110\n",
      "Epoch 5. Train_loss 0.253036 Validation_loss 0.193608 Seconds 0.072530\n",
      "Epoch 6. Train_loss 0.129283 Validation_loss 0.096365 Seconds 0.074525\n",
      "Epoch 7. Train_loss 0.067530 Validation_loss 0.053949 Seconds 0.069488\n",
      "Epoch 8. Train_loss 0.040306 Validation_loss 0.034691 Seconds 0.070385\n",
      "Epoch 9. Train_loss 0.026971 Validation_loss 0.024425 Seconds 0.072296\n",
      "Epoch 10. Train_loss 0.019538 Validation_loss 0.018353 Seconds 0.074979\n",
      "Epoch 11. Train_loss 0.014955 Validation_loss 0.014398 Seconds 0.072962\n",
      "Epoch 12. Train_loss 0.011907 Validation_loss 0.011701 Seconds 0.072724\n",
      "Epoch 13. Train_loss 0.009784 Validation_loss 0.009787 Seconds 0.080792\n",
      "Epoch 14. Train_loss 0.008245 Validation_loss 0.008359 Seconds 0.073994\n",
      "Epoch 15. Train_loss 0.007082 Validation_loss 0.007266 Seconds 0.071838\n",
      "Epoch 16. Train_loss 0.006179 Validation_loss 0.006403 Seconds 0.075755\n",
      "Epoch 17. Train_loss 0.005461 Validation_loss 0.005707 Seconds 0.072204\n",
      "Epoch 18. Train_loss 0.004877 Validation_loss 0.005138 Seconds 0.073422\n",
      "Epoch 19. Train_loss 0.004397 Validation_loss 0.004663 Seconds 0.074814\n",
      "Epoch 20. Train_loss 0.003995 Validation_loss 0.004261 Seconds 0.075689\n",
      "Epoch 21. Train_loss 0.003655 Validation_loss 0.003917 Seconds 0.074813\n",
      "Epoch 22. Train_loss 0.003362 Validation_loss 0.003619 Seconds 0.072242\n",
      "Epoch 23. Train_loss 0.003109 Validation_loss 0.003360 Seconds 0.073811\n",
      "Epoch 24. Train_loss 0.002888 Validation_loss 0.003133 Seconds 0.072780\n",
      "Epoch 25. Train_loss 0.002693 Validation_loss 0.002932 Seconds 0.070817\n",
      "Epoch 26. Train_loss 0.002521 Validation_loss 0.002753 Seconds 0.070886\n",
      "Epoch 27. Train_loss 0.002368 Validation_loss 0.002593 Seconds 0.074240\n",
      "Epoch 28. Train_loss 0.002231 Validation_loss 0.002449 Seconds 0.074527\n",
      "Epoch 29. Train_loss 0.002107 Validation_loss 0.002319 Seconds 0.072745\n",
      "Epoch 30. Train_loss 0.001996 Validation_loss 0.002202 Seconds 0.072793\n",
      "Epoch 31. Train_loss 0.001894 Validation_loss 0.002095 Seconds 0.071087\n",
      "Epoch 32. Train_loss 0.001802 Validation_loss 0.001997 Seconds 0.070137\n",
      "Epoch 33. Train_loss 0.001717 Validation_loss 0.001908 Seconds 0.069119\n",
      "Epoch 34. Train_loss 0.001640 Validation_loss 0.001825 Seconds 0.072711\n",
      "Epoch 35. Train_loss 0.001568 Validation_loss 0.001748 Seconds 0.071330\n",
      "Epoch 36. Train_loss 0.001502 Validation_loss 0.001678 Seconds 0.073833\n",
      "Epoch 37. Train_loss 0.001441 Validation_loss 0.001612 Seconds 0.074072\n",
      "Epoch 38. Train_loss 0.001384 Validation_loss 0.001551 Seconds 0.071375\n",
      "Epoch 39. Train_loss 0.001331 Validation_loss 0.001494 Seconds 0.070901\n",
      "Epoch 40. Train_loss 0.001282 Validation_loss 0.001441 Seconds 0.070867\n",
      "Epoch 41. Train_loss 0.001236 Validation_loss 0.001392 Seconds 0.071678\n",
      "Epoch 42. Train_loss 0.001193 Validation_loss 0.001345 Seconds 0.077906\n",
      "Epoch 43. Train_loss 0.001152 Validation_loss 0.001302 Seconds 0.072562\n",
      "Epoch 44. Train_loss 0.001114 Validation_loss 0.001261 Seconds 0.072192\n",
      "Epoch 45. Train_loss 0.001078 Validation_loss 0.001222 Seconds 0.071196\n",
      "Epoch 46. Train_loss 0.001045 Validation_loss 0.001185 Seconds 0.070404\n",
      "Epoch 47. Train_loss 0.001013 Validation_loss 0.001151 Seconds 0.071506\n",
      "Epoch 48. Train_loss 0.000983 Validation_loss 0.001118 Seconds 0.071797\n",
      "Epoch 49. Train_loss 0.000954 Validation_loss 0.001087 Seconds 0.073996\n"
     ]
    }
   ],
   "source": [
    "train_losses = []\n",
    "val_losses = []\n",
    "for epoch in range(epochs):\n",
    "    start = time.time()\n",
    "    training_loss = 0\n",
    "    # Build a training loop, to train the network\n",
    "    for idx, (data, target) in enumerate(train_loader):\n",
    "        # zero the parameter gradients\n",
    "        optimizer.zero_grad()\n",
    "        \n",
    "        data = data.to(device)\n",
    "        target = target.to(device).view(-1, 1)\n",
    "        \n",
    "        output = net(data)\n",
    "        L = loss(output, target).sum()\n",
    "        training_loss += L.item()\n",
    "        L.backward()\n",
    "        optimizer.step()\n",
    "    \n",
    "    # Get validation predictions\n",
    "    val_predictions = net(X_val)\n",
    "    # Calculate the validation loss\n",
    "    val_loss = torch.sum(loss(val_predictions, y_val.view(-1, 1))).item()\n",
    "    \n",
    "    # Take the average losses\n",
    "    training_loss = training_loss / len(y_train)\n",
    "    val_loss = val_loss / len(y_val)\n",
    "    \n",
    "    train_losses.append(training_loss)\n",
    "    val_losses.append(val_loss)\n",
    "    \n",
    "    end = time.time()\n",
    "    print(\"Epoch %s. Train_loss %f Validation_loss %f Seconds %f\" % \\\n",
    "          (epoch, training_loss, val_loss, end-start))"
   ]
  },
  {
   "cell_type": "markdown",
   "metadata": {},
   "source": [
    "Let's see the training and validation loss plots below. Losses go down as the training process continues as expected."
   ]
  },
  {
   "cell_type": "code",
   "execution_count": 12,
   "metadata": {
    "ExecuteTime": {
     "end_time": "2021-01-09T14:42:32.401843Z",
     "start_time": "2021-01-09T14:42:32.189298Z"
    }
   },
   "outputs": [
    {
     "data": {
      "image/png": "[encoded data removed]",
      "text/plain": [
       "<Figure size 432x288 with 1 Axes>"
      ]
     },
     "metadata": {
      "needs_background": "light"
     },
     "output_type": "display_data"
    }
   ],
   "source": [
    "%matplotlib inline\n",
    "import matplotlib.pyplot as plt\n",
    "import seaborn as sns\n",
    "\n",
    "plt.plot(train_losses, label=\"Training Loss\")\n",
    "plt.plot(val_losses, label=\"Validation Loss\")\n",
    "plt.title(\"Loss values\")\n",
    "plt.xlabel(\"Epoch\")\n",
    "plt.ylabel(\"Loss\")\n",
    "plt.legend()\n",
    "plt.show()"
   ]
  },
  {
   "cell_type": "markdown",
   "metadata": {},
   "source": [
    "## 5. <a name=\"5\">Natural Language Processing Context</a>\n",
    "(<a href=\"#0\">Go to top</a>)\n",
    "\n",
    "If we want to use the same type of architecture for text classification, we need to apply some feature extraction methods first. For example: We can get TF-IDF vectors of text fields. After that, we can use neural networks on those features. \n",
    "\n",
    "We will also look at __more advanced neural network architrectures__ such as __Recurrent Neural Networks (RNNs)__, __Long Short-Term Memory networks (LSTMs)__ and __Transformers__. "
   ]
  }
 ],
 "metadata": {
  "kernelspec": {
   "display_name": "Python 3",
   "language": "python",
   "name": "python3"
  },
  "language_info": {
   "codemirror_mode": {
    "name": "ipython",
    "version": 3
   },
   "file_extension": ".py",
   "mimetype": "text/x-python",
   "name": "python",
   "nbconvert_exporter": "python",
   "pygments_lexer": "ipython3",
   "version": "3.8.3"
  }
 },
 "nbformat": 4,
 "nbformat_minor": 2
}
